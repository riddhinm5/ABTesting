{
 "cells": [
  {
   "cell_type": "markdown",
   "metadata": {},
   "source": [
    "# A/B Testing Final Project\n",
    "\n",
    "Testing out the change made to the fictional \"Audacity\" educational website where a change was made to ask them how much time they can devote to a course before they chose to begin a free trial. \n",
    "\n",
    "## Experiment overview [[1]](https://docs.google.com/document/u/1/d/1aCquhIqsUApgsxQ8-SQBAigFDcfWVVohLEXcV6jWbdI/pub?embedded=True)\n",
    "\n",
    "overview page: \"start free trial\", and \"access course materials\". If the student clicks \"start free\n",
    "trial\", they will be asked to enter their credit card information, and then they will be enrolled in a\n",
    "free trial for the paid version of the course. After 14 days, they will automatically be charged\n",
    "unless they cancel first. If the student clicks \"access course materials\", they will be able to view\n",
    "the videos and take the quizzes for free, but they will not receive coaching support or a verified\n",
    "certificate, and they will not submit their final project for feedback.\n",
    "In the experiment, Udacity tested a change where if the student clicked \"start free trial\", they\n",
    "were asked how much time they had available to devote to the course. If the student indicated 5\n",
    "or more hours per week, they would be taken through the checkout process as usual. If they\n",
    "indicated fewer than 5 hours per week, a message would appear indicating that Udacity courses\n",
    "usually require a greater time commitment for successful completion, and suggesting that the\n",
    "student might like to access the course materials for free. At this point, the student would have\n",
    "the option to continue enrolling in the free trial, or access the course materials for free\n",
    "instead. This screenshot shows what the experiment looks like.\n",
    "The hypothesis was that this might set clearer expectations for students upfront, thus reducing\n",
    "the number of frustrated students who left the free trial because they didn't have enough time—\n",
    "without significantly reducing the number of students to continue past the free trial and\n",
    "eventually complete the course. If this hypothesis held true, Udacity could improve the overall\n",
    "student experience and improve coaches' capacity to support students who are likely to\n",
    "complete the course.\n",
    "The unit of diversion is a cookie, although if the student enrolls in the free trial, they are tracked\n",
    "by user-id from that point forward. The same user-id cannot enroll in the free trial twice. For\n",
    "users that do not enroll, their user-id is not tracked in the experiment, even if they were signed\n",
    "in when they visited the course overview page. \n",
    "\n",
    "Getting started by importing required libraries"
   ]
  },
  {
   "cell_type": "code",
   "execution_count": 1,
   "metadata": {},
   "outputs": [],
   "source": [
    "import pandas as pd\n",
    "import numpy as np"
   ]
  },
  {
   "cell_type": "code",
   "execution_count": 2,
   "metadata": {},
   "outputs": [],
   "source": [
    "baseline = pd.read_csv('Data/baseline.csv')"
   ]
  },
  {
   "cell_type": "code",
   "execution_count": 3,
   "metadata": {},
   "outputs": [
    {
     "data": {
      "text/html": [
       "<div>\n",
       "<style scoped>\n",
       "    .dataframe tbody tr th:only-of-type {\n",
       "        vertical-align: middle;\n",
       "    }\n",
       "\n",
       "    .dataframe tbody tr th {\n",
       "        vertical-align: top;\n",
       "    }\n",
       "\n",
       "    .dataframe thead th {\n",
       "        text-align: right;\n",
       "    }\n",
       "</style>\n",
       "<table border=\"1\" class=\"dataframe\">\n",
       "  <thead>\n",
       "    <tr style=\"text-align: right;\">\n",
       "      <th></th>\n",
       "      <th>MeasureName</th>\n",
       "      <th>Value</th>\n",
       "    </tr>\n",
       "  </thead>\n",
       "  <tbody>\n",
       "    <tr>\n",
       "      <th>0</th>\n",
       "      <td>Unique cookies to view course overview page pe...</td>\n",
       "      <td>40000.000000</td>\n",
       "    </tr>\n",
       "    <tr>\n",
       "      <th>1</th>\n",
       "      <td>Unique cookies to click Start free trial per day</td>\n",
       "      <td>3200.000000</td>\n",
       "    </tr>\n",
       "    <tr>\n",
       "      <th>2</th>\n",
       "      <td>Enrollments per day</td>\n",
       "      <td>660.000000</td>\n",
       "    </tr>\n",
       "    <tr>\n",
       "      <th>3</th>\n",
       "      <td>Click-through-probability on Start free trial</td>\n",
       "      <td>0.080000</td>\n",
       "    </tr>\n",
       "    <tr>\n",
       "      <th>4</th>\n",
       "      <td>Probability of enrolling given click</td>\n",
       "      <td>0.206250</td>\n",
       "    </tr>\n",
       "    <tr>\n",
       "      <th>5</th>\n",
       "      <td>Probability of payment given enroll</td>\n",
       "      <td>0.530000</td>\n",
       "    </tr>\n",
       "    <tr>\n",
       "      <th>6</th>\n",
       "      <td>Probability of payment given click</td>\n",
       "      <td>0.109313</td>\n",
       "    </tr>\n",
       "  </tbody>\n",
       "</table>\n",
       "</div>"
      ],
      "text/plain": [
       "                                         MeasureName         Value\n",
       "0  Unique cookies to view course overview page pe...  40000.000000\n",
       "1   Unique cookies to click Start free trial per day   3200.000000\n",
       "2                                Enrollments per day    660.000000\n",
       "3      Click-through-probability on Start free trial      0.080000\n",
       "4               Probability of enrolling given click      0.206250\n",
       "5                Probability of payment given enroll      0.530000\n",
       "6                 Probability of payment given click      0.109313"
      ]
     },
     "execution_count": 3,
     "metadata": {},
     "output_type": "execute_result"
    }
   ],
   "source": [
    "baseline"
   ]
  },
  {
   "cell_type": "code",
   "execution_count": 4,
   "metadata": {},
   "outputs": [
    {
     "data": {
      "text/plain": [
       "MeasureName     object\n",
       " Value         float64\n",
       "dtype: object"
      ]
     },
     "execution_count": 4,
     "metadata": {},
     "output_type": "execute_result"
    }
   ],
   "source": [
    "baseline.dtypes"
   ]
  },
  {
   "cell_type": "markdown",
   "metadata": {},
   "source": [
    "## Section 1 Question: Metric Choice\n",
    "\n",
    "Which of the following metrics would you choose to measure for this experiment and why? For each metric you choose, indicate whether you would use it as an invariant metric or an evaluation metric. The practical significance boundary for each metric, that is, the difference that would have to be observed before that was a meaningful change for the business, is given in parentheses. All practical significance boundaries are given as absolute changes.\n",
    "\n",
    "\n",
    "Any place \"unique cookies\" are mentioned, the uniqueness is determined by day. (That is, the same cookie visiting on different days would be counted twice.) User-ids are automatically unique since the site does not allow the same user-id to enroll twice.\n",
    "\n",
    "Number of cookies: That is, number of unique cookies to view the course overview page. (dmin=3000)<br><br>\n",
    "Number of user-ids: That is, number of users who enroll in the free trial. (dmin=50)<br><br>\n",
    "Number of clicks: That is, number of unique cookies to click the \"Start free trial\" button (which happens before the free trial screener is trigger). (dmin=240)<br><br>\n",
    "Click-through-probability: That is, number of unique cookies to click the \"Start free trial\" button divided by number of unique cookies to view the course overview page. (dmin=0.01)<br><br>\n",
    "Gross conversion: That is, number of user-ids to complete checkout and enroll in the free trial divided by number of unique cookies to click the \"Start free trial\" button. (dmin= 0.01)<br><br>\n",
    "Retention: That is, number of user-ids to remain enrolled past the 14-day boundary (and thus make at least one payment) divided by number of user-ids to complete checkout. (dmin=0.01)<br><br>\n",
    "Net conversion: That is, number of user-ids to remain enrolled past the 14-day boundary (and thus make at least one payment) divided by the number of unique cookies to click the \"Start free trial\" button. (dmin= 0.0075)<br><br>\n",
    "\n",
    "You should also decide now what results you will be looking for in order to launch the experiment. Would a change in any one of your evaluation metrics be sufficient? Would you want to see multiple metrics all move or not move at the same time in order to launch? This decision will inform your choices while designing the experiment.\n",
    "\n",
    "## Section 1 Answers: Chosing invariant and evaluation metrics\n",
    "\n",
    "#### 1. Invarant Metrics\n",
    "of the 6 metrics provided, the metrics **\"Unique cookies to visit the page per day\"**, **\"Unique cookies to click start free trial per day\"** & **\"Click through probability on the start free trial\"** are 3 measured before the user actually sees any changes to the page. Therefore these 2 values are not going to change as an after effect of this experiment\n",
    "\n",
    "#### 2. Evaluation Metrics\n",
    "There are 3 possible candidates for the evaluation metrics, **\"Probability of enrolling given click\"**, **\"Probability of payment given enroll\"** and **\"Probability of payment given click\"** are good candidates for evaluation metrics. Once I completed the sizing section below, I found that the number of PVs that would be needed in order to reliably estimate the effect of the change would be very large for \"Probability of payment given enroll\" therefore the final 2 metrics to measure this change are:\n",
    "1. **\"Probability of enrolling given click\"**\n",
    "2. **\"Probability of payment given click\"** "
   ]
  },
  {
   "cell_type": "markdown",
   "metadata": {},
   "source": [
    "### Measuring Variability\n",
    "[This spreadsheet](https://www.google.com/url?q=https://docs.google.com/a/knowlabs.com/spreadsheets/d/1MYNUtC47Pg8hdoCjOXaHqF-thheGpUshrFA21BAJnNc/edit%23gid%3D0&sa=D&ust=1521269700957000&usg=AFQjCNHpp0jBBaRuv1Hm6K9O5QCC2MwAcw) contains rough estimates of the baseline values for these metrics (again, these numbers have been changed from Udacity's true numbers).\n",
    "\n",
    "\n",
    "For each metric you selected as an evaluation metric, estimate its standard deviation analytically. Do you expect the analytic estimates to be accurate? That is, for which metrics, if any, would you want to collect an empirical estimate of the variability if you had time?\n",
    "\n",
    "**Based on the question provided on the project, at first I will be calculating the baseline metrics for the evaluation metrics and their SEs using 5000 unique cookies as my unit of diversion**"
   ]
  },
  {
   "cell_type": "code",
   "execution_count": 5,
   "metadata": {},
   "outputs": [],
   "source": [
    "baseline_piv = baseline.pivot_table(columns='MeasureName', aggfunc='sum')\n",
    "baseline_piv.columns = ['CTR', 'Enrollments', 'P_enroll_click', 'P_pay_click', 'P_pay_enroll', 'StartTrial', 'PVs']"
   ]
  },
  {
   "cell_type": "code",
   "execution_count": 6,
   "metadata": {},
   "outputs": [],
   "source": [
    "baseline_piv = baseline_piv.append({'CTR':np.nan,\n",
    "                     'Enrollments':np.nan,\n",
    "                     'P_enroll_click':np.nan,\n",
    "                     'P_pay_click':np.nan,\n",
    "                     'P_pay_enroll':np.nan,\n",
    "                     'StartTrial':np.nan,\n",
    "                     'PVs': 5000}, ignore_index=True)"
   ]
  },
  {
   "cell_type": "code",
   "execution_count": 7,
   "metadata": {},
   "outputs": [],
   "source": [
    "baseline_piv.loc[1, 'StartTrial'] = (baseline_piv.loc[0, 'StartTrial'] *\\\n",
    "                                      baseline_piv.loc[1, 'PVs'])/ baseline_piv.loc[0,'PVs']\n",
    "baseline_piv.loc[1, 'Enrollments'] = (baseline_piv.loc[0, 'Enrollments'] *\\\n",
    "                                      baseline_piv.loc[1, 'StartTrial']) \\\n",
    "/ baseline_piv.loc[0,'StartTrial']\n",
    "baseline_piv.loc[1, 'P_pay_enroll'] = baseline_piv.loc[0, 'P_pay_enroll']\n",
    "baseline_piv.loc[1, 'P_enroll_click'] = baseline_piv.loc[0, 'P_enroll_click']\n",
    "baseline_piv.loc[1, 'P_pay_click'] = baseline_piv.loc[0, 'P_pay_click']\n",
    "baseline_piv.loc[1, 'CTR'] = baseline_piv.loc[1, 'StartTrial'] / baseline_piv.loc[1, 'PVs']"
   ]
  },
  {
   "cell_type": "code",
   "execution_count": 8,
   "metadata": {},
   "outputs": [
    {
     "data": {
      "text/html": [
       "<div>\n",
       "<style scoped>\n",
       "    .dataframe tbody tr th:only-of-type {\n",
       "        vertical-align: middle;\n",
       "    }\n",
       "\n",
       "    .dataframe tbody tr th {\n",
       "        vertical-align: top;\n",
       "    }\n",
       "\n",
       "    .dataframe thead th {\n",
       "        text-align: right;\n",
       "    }\n",
       "</style>\n",
       "<table border=\"1\" class=\"dataframe\">\n",
       "  <thead>\n",
       "    <tr style=\"text-align: right;\">\n",
       "      <th></th>\n",
       "      <th>CTR</th>\n",
       "      <th>Enrollments</th>\n",
       "      <th>P_enroll_click</th>\n",
       "      <th>P_pay_click</th>\n",
       "      <th>P_pay_enroll</th>\n",
       "      <th>StartTrial</th>\n",
       "      <th>PVs</th>\n",
       "    </tr>\n",
       "  </thead>\n",
       "  <tbody>\n",
       "    <tr>\n",
       "      <th>0</th>\n",
       "      <td>0.08</td>\n",
       "      <td>660.0</td>\n",
       "      <td>0.20625</td>\n",
       "      <td>0.109313</td>\n",
       "      <td>0.53</td>\n",
       "      <td>3200.0</td>\n",
       "      <td>40000.0</td>\n",
       "    </tr>\n",
       "    <tr>\n",
       "      <th>1</th>\n",
       "      <td>0.08</td>\n",
       "      <td>82.5</td>\n",
       "      <td>0.20625</td>\n",
       "      <td>0.109313</td>\n",
       "      <td>0.53</td>\n",
       "      <td>400.0</td>\n",
       "      <td>5000.0</td>\n",
       "    </tr>\n",
       "  </tbody>\n",
       "</table>\n",
       "</div>"
      ],
      "text/plain": [
       "    CTR  Enrollments  P_enroll_click  P_pay_click  P_pay_enroll  StartTrial  \\\n",
       "0  0.08        660.0         0.20625     0.109313          0.53      3200.0   \n",
       "1  0.08         82.5         0.20625     0.109313          0.53       400.0   \n",
       "\n",
       "       PVs  \n",
       "0  40000.0  \n",
       "1   5000.0  "
      ]
     },
     "execution_count": 8,
     "metadata": {},
     "output_type": "execute_result"
    }
   ],
   "source": [
    "baseline_piv"
   ]
  },
  {
   "cell_type": "code",
   "execution_count": 9,
   "metadata": {},
   "outputs": [],
   "source": [
    "# function to calculate \n",
    "def calc_se(prob, n1, n2=0):\n",
    "    if n2 == 0:\n",
    "        se = np.sqrt(prob*(1-prob)*(1/n1))\n",
    "    else:\n",
    "        se = np.sqrt(prob*(1-prob)*(1/n1+1/n2))\n",
    "    return round(se,4)"
   ]
  },
  {
   "cell_type": "code",
   "execution_count": 10,
   "metadata": {},
   "outputs": [
    {
     "name": "stdout",
     "output_type": "stream",
     "text": [
      "P_enroll_click baseline SE using unique cookies as unit of diversion:  0.0202\n",
      "P_pay_click baseline SE using unique cookies as unit of diversion:  0.0156\n"
     ]
    }
   ],
   "source": [
    "print('P_enroll_click baseline SE using unique cookies as unit of diversion: ',\\\n",
    "      calc_se(baseline_piv.loc[1, 'P_enroll_click'],\\\n",
    "              baseline_piv.loc[1, 'StartTrial']))\n",
    "print('P_pay_click baseline SE using unique cookies as unit of diversion: ',\\\n",
    "     calc_se(baseline_piv.loc[1, 'P_pay_click'],\\\n",
    "              baseline_piv.loc[1, 'StartTrial']))"
   ]
  },
  {
   "cell_type": "markdown",
   "metadata": {},
   "source": [
    "## Section 2 Questions: Sizing\n",
    "#### Choosing Number of Samples given Power\n",
    "Using the analytic estimates of variance, how many pageviews total (across both groups) would you need to collect to adequately power the experiment? Use an alpha of 0.05 and a beta of 0.2. Make sure you have enough power for each metric."
   ]
  },
  {
   "cell_type": "markdown",
   "metadata": {},
   "source": [
    "Using the pageview calculator, [here](https://www.evanmiller.org/ab-testing/sample-size.html), for probability of payment given click we get the number of pageviews needed as: 819 Pvs with clicks using this click rate, total pageviews per variation are:"
   ]
  },
  {
   "cell_type": "code",
   "execution_count": 26,
   "metadata": {},
   "outputs": [
    {
     "data": {
      "text/plain": [
       "825500.0"
      ]
     },
     "execution_count": 26,
     "metadata": {},
     "output_type": "execute_result"
    }
   ],
   "source": [
    "33020/0.08 * 2"
   ]
  },
  {
   "cell_type": "markdown",
   "metadata": {},
   "source": [
    "#### Choosing Duration vs. Exposure\n",
    "What percentage of Udacity's traffic would you divert to this experiment (assuming there were no other experiments you wanted to run simultaneously)? Is the change risky enough that you wouldn't want to run on all traffic?\n",
    "\n",
    "\n",
    "Given the percentage you chose, how long would the experiment take to run, using the analytic estimates of variance? If the answer is longer than a few weeks, then this is unreasonably long, and you should reconsider an earlier decision."
   ]
  },
  {
   "cell_type": "markdown",
   "metadata": {},
   "source": [
    "Assuming we show this change to 90% of the traffic we will need to run this experiment for:"
   ]
  },
  {
   "cell_type": "code",
   "execution_count": 27,
   "metadata": {},
   "outputs": [
    {
     "data": {
      "text/plain": [
       "22.930555555555557"
      ]
     },
     "execution_count": 27,
     "metadata": {},
     "output_type": "execute_result"
    }
   ],
   "source": [
    "825500/ (0.9*40000)"
   ]
  },
  {
   "cell_type": "markdown",
   "metadata": {},
   "source": [
    "roughly 23 days"
   ]
  },
  {
   "cell_type": "markdown",
   "metadata": {},
   "source": [
    "## Section 3: Analyzing results"
   ]
  },
  {
   "cell_type": "code",
   "execution_count": null,
   "metadata": {},
   "outputs": [],
   "source": []
  },
  {
   "cell_type": "code",
   "execution_count": null,
   "metadata": {},
   "outputs": [],
   "source": []
  },
  {
   "cell_type": "code",
   "execution_count": null,
   "metadata": {},
   "outputs": [],
   "source": []
  },
  {
   "cell_type": "code",
   "execution_count": null,
   "metadata": {},
   "outputs": [],
   "source": []
  },
  {
   "cell_type": "markdown",
   "metadata": {},
   "source": [
    "### Source:\n",
    "[[1]](https://docs.google.com/document/u/1/d/1aCquhIqsUApgsxQ8-SQBAigFDcfWVVohLEXcV6jWbdI/pub?embedded=True) - Udacity project description document"
   ]
  }
 ],
 "metadata": {
  "kernelspec": {
   "display_name": "Python 3",
   "language": "python",
   "name": "python3"
  },
  "language_info": {
   "codemirror_mode": {
    "name": "ipython",
    "version": 3
   },
   "file_extension": ".py",
   "mimetype": "text/x-python",
   "name": "python",
   "nbconvert_exporter": "python",
   "pygments_lexer": "ipython3",
   "version": "3.6.4"
  }
 },
 "nbformat": 4,
 "nbformat_minor": 2
}
