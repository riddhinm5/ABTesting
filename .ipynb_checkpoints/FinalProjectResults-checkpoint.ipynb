{
 "cells": [
  {
   "cell_type": "markdown",
   "metadata": {},
   "source": [
    "# A/B Testing Final Project\n",
    "\n",
    "Testing out the change made to the fictional \"Audacity\" educational website where a change was made to ask them how much time they can devote to a course before they chose to begin a free trial. \n",
    "\n",
    "## Experiment overview [[1]](https://docs.google.com/document/u/1/d/1aCquhIqsUApgsxQ8-SQBAigFDcfWVVohLEXcV6jWbdI/pub?embedded=True)\n",
    "\n",
    "overview page: \"start free trial\", and \"access course materials\". If the student clicks \"start free\n",
    "trial\", they will be asked to enter their credit card information, and then they will be enrolled in a\n",
    "free trial for the paid version of the course. After 14 days, they will automatically be charged\n",
    "unless they cancel first. If the student clicks \"access course materials\", they will be able to view\n",
    "the videos and take the quizzes for free, but they will not receive coaching support or a verified\n",
    "certificate, and they will not submit their final project for feedback.\n",
    "In the experiment, Udacity tested a change where if the student clicked \"start free trial\", they\n",
    "were asked how much time they had available to devote to the course. If the student indicated 5\n",
    "or more hours per week, they would be taken through the checkout process as usual. If they\n",
    "indicated fewer than 5 hours per week, a message would appear indicating that Udacity courses\n",
    "usually require a greater time commitment for successful completion, and suggesting that the\n",
    "student might like to access the course materials for free. At this point, the student would have\n",
    "the option to continue enrolling in the free trial, or access the course materials for free\n",
    "instead. This screenshot shows what the experiment looks like.\n",
    "The hypothesis was that this might set clearer expectations for students upfront, thus reducing\n",
    "the number of frustrated students who left the free trial because they didn't have enough time—\n",
    "without significantly reducing the number of students to continue past the free trial and\n",
    "eventually complete the course. If this hypothesis held true, Udacity could improve the overall\n",
    "student experience and improve coaches' capacity to support students who are likely to\n",
    "complete the course.\n",
    "The unit of diversion is a cookie, although if the student enrolls in the free trial, they are tracked\n",
    "by user-id from that point forward. The same user-id cannot enroll in the free trial twice. For\n",
    "users that do not enroll, their user-id is not tracked in the experiment, even if they were signed\n",
    "in when they visited the course overview page. \n",
    "\n",
    "Getting started by importing required libraries"
   ]
  },
  {
   "cell_type": "code",
   "execution_count": 1,
   "metadata": {},
   "outputs": [],
   "source": [
    "import pandas as pd\n",
    "import numpy as np"
   ]
  },
  {
   "cell_type": "code",
   "execution_count": 2,
   "metadata": {},
   "outputs": [],
   "source": [
    "baseline = pd.read_csv('Data/baseline.csv')"
   ]
  },
  {
   "cell_type": "code",
   "execution_count": 3,
   "metadata": {},
   "outputs": [
    {
     "data": {
      "text/html": [
       "<div>\n",
       "<style scoped>\n",
       "    .dataframe tbody tr th:only-of-type {\n",
       "        vertical-align: middle;\n",
       "    }\n",
       "\n",
       "    .dataframe tbody tr th {\n",
       "        vertical-align: top;\n",
       "    }\n",
       "\n",
       "    .dataframe thead th {\n",
       "        text-align: right;\n",
       "    }\n",
       "</style>\n",
       "<table border=\"1\" class=\"dataframe\">\n",
       "  <thead>\n",
       "    <tr style=\"text-align: right;\">\n",
       "      <th></th>\n",
       "      <th>MeasureName</th>\n",
       "      <th>Value</th>\n",
       "    </tr>\n",
       "  </thead>\n",
       "  <tbody>\n",
       "    <tr>\n",
       "      <th>0</th>\n",
       "      <td>Unique cookies to view course overview page pe...</td>\n",
       "      <td>40000.000000</td>\n",
       "    </tr>\n",
       "    <tr>\n",
       "      <th>1</th>\n",
       "      <td>Unique cookies to click Start free trial per day</td>\n",
       "      <td>3200.000000</td>\n",
       "    </tr>\n",
       "    <tr>\n",
       "      <th>2</th>\n",
       "      <td>Enrollments per day</td>\n",
       "      <td>660.000000</td>\n",
       "    </tr>\n",
       "    <tr>\n",
       "      <th>3</th>\n",
       "      <td>Click-through-probability on Start free trial</td>\n",
       "      <td>0.080000</td>\n",
       "    </tr>\n",
       "    <tr>\n",
       "      <th>4</th>\n",
       "      <td>Probability of enrolling given click</td>\n",
       "      <td>0.206250</td>\n",
       "    </tr>\n",
       "    <tr>\n",
       "      <th>5</th>\n",
       "      <td>Probability of payment given enroll</td>\n",
       "      <td>0.530000</td>\n",
       "    </tr>\n",
       "    <tr>\n",
       "      <th>6</th>\n",
       "      <td>Probability of payment given click</td>\n",
       "      <td>0.109313</td>\n",
       "    </tr>\n",
       "  </tbody>\n",
       "</table>\n",
       "</div>"
      ],
      "text/plain": [
       "                                         MeasureName         Value\n",
       "0  Unique cookies to view course overview page pe...  40000.000000\n",
       "1   Unique cookies to click Start free trial per day   3200.000000\n",
       "2                                Enrollments per day    660.000000\n",
       "3      Click-through-probability on Start free trial      0.080000\n",
       "4               Probability of enrolling given click      0.206250\n",
       "5                Probability of payment given enroll      0.530000\n",
       "6                 Probability of payment given click      0.109313"
      ]
     },
     "execution_count": 3,
     "metadata": {},
     "output_type": "execute_result"
    }
   ],
   "source": [
    "baseline"
   ]
  },
  {
   "cell_type": "code",
   "execution_count": 4,
   "metadata": {},
   "outputs": [
    {
     "data": {
      "text/plain": [
       "MeasureName     object\n",
       " Value         float64\n",
       "dtype: object"
      ]
     },
     "execution_count": 4,
     "metadata": {},
     "output_type": "execute_result"
    }
   ],
   "source": [
    "baseline.dtypes"
   ]
  },
  {
   "cell_type": "markdown",
   "metadata": {},
   "source": [
    "## Section 1 Question: Metric Choice\n",
    "\n",
    "Which of the following metrics would you choose to measure for this experiment and why? For each metric you choose, indicate whether you would use it as an invariant metric or an evaluation metric. The practical significance boundary for each metric, that is, the difference that would have to be observed before that was a meaningful change for the business, is given in parentheses. All practical significance boundaries are given as absolute changes.\n",
    "\n",
    "\n",
    "Any place \"unique cookies\" are mentioned, the uniqueness is determined by day. (That is, the same cookie visiting on different days would be counted twice.) User-ids are automatically unique since the site does not allow the same user-id to enroll twice.\n",
    "\n",
    "Number of cookies: That is, number of unique cookies to view the course overview page. (dmin=3000)<br><br>\n",
    "Number of user-ids: That is, number of users who enroll in the free trial. (dmin=50)<br><br>\n",
    "Number of clicks: That is, number of unique cookies to click the \"Start free trial\" button (which happens before the free trial screener is trigger). (dmin=240)<br><br>\n",
    "Click-through-probability: That is, number of unique cookies to click the \"Start free trial\" button divided by number of unique cookies to view the course overview page. (dmin=0.01)<br><br>\n",
    "Gross conversion: That is, number of user-ids to complete checkout and enroll in the free trial divided by number of unique cookies to click the \"Start free trial\" button. (dmin= 0.01)<br><br>\n",
    "Retention: That is, number of user-ids to remain enrolled past the 14-day boundary (and thus make at least one payment) divided by number of user-ids to complete checkout. (dmin=0.01)<br><br>\n",
    "Net conversion: That is, number of user-ids to remain enrolled past the 14-day boundary (and thus make at least one payment) divided by the number of unique cookies to click the \"Start free trial\" button. (dmin= 0.0075)<br><br>\n",
    "\n",
    "You should also decide now what results you will be looking for in order to launch the experiment. Would a change in any one of your evaluation metrics be sufficient? Would you want to see multiple metrics all move or not move at the same time in order to launch? This decision will inform your choices while designing the experiment.\n",
    "\n",
    "## Section 1 Answers: Chosing invariant and evaluation metrics\n",
    "\n",
    "#### 1. Invarant Metrics\n",
    "of the 6 metrics provided, the metrics **\"Unique cookies to visit the page per day\"**, **\"Unique cookies to click start free trial per day\"** & **\"Click through probability on the start free trial\"** are 3 measured before the user actually sees any changes to the page. Therefore these 2 values are not going to change as an after effect of this experiment\n",
    "\n",
    "#### 2. Evaluation Metrics\n",
    "There are 3 possible candidates for the evaluation metrics, **\"Probability of enrolling given click\"**, **\"Probability of payment given enroll\"** and **\"Probability of payment given click\"** are good candidates for evaluation metrics. Once I completed the sizing section below, I found that the number of PVs that would be needed in order to reliably estimate the effect of the change would be very large for \"Probability of payment given enroll\" therefore the final 2 metrics to measure this change are:\n",
    "1. **\"Probability of enrolling given click\"**\n",
    "2. **\"Probability of payment given click\"** "
   ]
  },
  {
   "cell_type": "markdown",
   "metadata": {},
   "source": [
    "### Measuring Variability\n",
    "[This spreadsheet](https://www.google.com/url?q=https://docs.google.com/a/knowlabs.com/spreadsheets/d/1MYNUtC47Pg8hdoCjOXaHqF-thheGpUshrFA21BAJnNc/edit%23gid%3D0&sa=D&ust=1521269700957000&usg=AFQjCNHpp0jBBaRuv1Hm6K9O5QCC2MwAcw) contains rough estimates of the baseline values for these metrics (again, these numbers have been changed from Udacity's true numbers).\n",
    "\n",
    "\n",
    "For each metric you selected as an evaluation metric, estimate its standard deviation analytically. Do you expect the analytic estimates to be accurate? That is, for which metrics, if any, would you want to collect an empirical estimate of the variability if you had time?\n",
    "\n",
    "**Based on the question provided on the project, at first I will be calculating the baseline metrics for the evaluation metrics and their SEs using 5000 unique cookies as my unit of diversion**"
   ]
  },
  {
   "cell_type": "code",
   "execution_count": 5,
   "metadata": {},
   "outputs": [],
   "source": [
    "baseline_piv = baseline.pivot_table(columns='MeasureName', aggfunc='sum')\n",
    "baseline_piv.columns = ['CTR', 'Enrollments', 'P_enroll_click', 'P_pay_click', 'P_pay_enroll', 'StartTrial', 'PVs']"
   ]
  },
  {
   "cell_type": "code",
   "execution_count": 6,
   "metadata": {},
   "outputs": [],
   "source": [
    "baseline_piv = baseline_piv.append({'CTR':np.nan,\n",
    "                     'Enrollments':np.nan,\n",
    "                     'P_enroll_click':np.nan,\n",
    "                     'P_pay_click':np.nan,\n",
    "                     'P_pay_enroll':np.nan,\n",
    "                     'StartTrial':np.nan,\n",
    "                     'PVs': 5000}, ignore_index=True)"
   ]
  },
  {
   "cell_type": "code",
   "execution_count": 7,
   "metadata": {},
   "outputs": [],
   "source": [
    "baseline_piv.loc[1, 'StartTrial'] = (baseline_piv.loc[0, 'StartTrial'] *\\\n",
    "                                      baseline_piv.loc[1, 'PVs'])/ baseline_piv.loc[0,'PVs']\n",
    "baseline_piv.loc[1, 'Enrollments'] = (baseline_piv.loc[0, 'Enrollments'] *\\\n",
    "                                      baseline_piv.loc[1, 'StartTrial']) \\\n",
    "/ baseline_piv.loc[0,'StartTrial']\n",
    "baseline_piv.loc[1, 'P_pay_enroll'] = baseline_piv.loc[0, 'P_pay_enroll']\n",
    "baseline_piv.loc[1, 'P_enroll_click'] = baseline_piv.loc[0, 'P_enroll_click']\n",
    "baseline_piv.loc[1, 'P_pay_click'] = baseline_piv.loc[0, 'P_pay_click']\n",
    "baseline_piv.loc[1, 'CTR'] = baseline_piv.loc[1, 'StartTrial'] / baseline_piv.loc[1, 'PVs']"
   ]
  },
  {
   "cell_type": "code",
   "execution_count": 8,
   "metadata": {},
   "outputs": [
    {
     "data": {
      "text/html": [
       "<div>\n",
       "<style scoped>\n",
       "    .dataframe tbody tr th:only-of-type {\n",
       "        vertical-align: middle;\n",
       "    }\n",
       "\n",
       "    .dataframe tbody tr th {\n",
       "        vertical-align: top;\n",
       "    }\n",
       "\n",
       "    .dataframe thead th {\n",
       "        text-align: right;\n",
       "    }\n",
       "</style>\n",
       "<table border=\"1\" class=\"dataframe\">\n",
       "  <thead>\n",
       "    <tr style=\"text-align: right;\">\n",
       "      <th></th>\n",
       "      <th>CTR</th>\n",
       "      <th>Enrollments</th>\n",
       "      <th>P_enroll_click</th>\n",
       "      <th>P_pay_click</th>\n",
       "      <th>P_pay_enroll</th>\n",
       "      <th>StartTrial</th>\n",
       "      <th>PVs</th>\n",
       "    </tr>\n",
       "  </thead>\n",
       "  <tbody>\n",
       "    <tr>\n",
       "      <th>0</th>\n",
       "      <td>0.08</td>\n",
       "      <td>660.0</td>\n",
       "      <td>0.20625</td>\n",
       "      <td>0.109313</td>\n",
       "      <td>0.53</td>\n",
       "      <td>3200.0</td>\n",
       "      <td>40000.0</td>\n",
       "    </tr>\n",
       "    <tr>\n",
       "      <th>1</th>\n",
       "      <td>0.08</td>\n",
       "      <td>82.5</td>\n",
       "      <td>0.20625</td>\n",
       "      <td>0.109313</td>\n",
       "      <td>0.53</td>\n",
       "      <td>400.0</td>\n",
       "      <td>5000.0</td>\n",
       "    </tr>\n",
       "  </tbody>\n",
       "</table>\n",
       "</div>"
      ],
      "text/plain": [
       "    CTR  Enrollments  P_enroll_click  P_pay_click  P_pay_enroll  StartTrial  \\\n",
       "0  0.08        660.0         0.20625     0.109313          0.53      3200.0   \n",
       "1  0.08         82.5         0.20625     0.109313          0.53       400.0   \n",
       "\n",
       "       PVs  \n",
       "0  40000.0  \n",
       "1   5000.0  "
      ]
     },
     "execution_count": 8,
     "metadata": {},
     "output_type": "execute_result"
    }
   ],
   "source": [
    "baseline_piv"
   ]
  },
  {
   "cell_type": "code",
   "execution_count": 9,
   "metadata": {},
   "outputs": [],
   "source": [
    "# function to calculate \n",
    "def calc_se(prob, n1, n2=0):\n",
    "    if n2 == 0:\n",
    "        se = np.sqrt(prob*(1-prob)*(1/n1))\n",
    "    else:\n",
    "        se = np.sqrt(prob*(1-prob)*(1/n1+1/n2))\n",
    "    return round(se,4)"
   ]
  },
  {
   "cell_type": "code",
   "execution_count": 10,
   "metadata": {},
   "outputs": [
    {
     "name": "stdout",
     "output_type": "stream",
     "text": [
      "P_enroll_click baseline SE using unique cookies as unit of diversion:  0.0202\n",
      "P_pay_click baseline SE using unique cookies as unit of diversion:  0.0156\n"
     ]
    }
   ],
   "source": [
    "print('P_enroll_click baseline SE using unique cookies as unit of diversion: ',\\\n",
    "      calc_se(baseline_piv.loc[1, 'P_enroll_click'],\\\n",
    "              baseline_piv.loc[1, 'StartTrial']))\n",
    "print('P_pay_click baseline SE using unique cookies as unit of diversion: ',\\\n",
    "     calc_se(baseline_piv.loc[1, 'P_pay_click'],\\\n",
    "              baseline_piv.loc[1, 'StartTrial']))"
   ]
  },
  {
   "cell_type": "markdown",
   "metadata": {},
   "source": [
    "## Section 2 Questions: Sizing\n",
    "#### Choosing Number of Samples given Power\n",
    "Using the analytic estimates of variance, how many pageviews total (across both groups) would you need to collect to adequately power the experiment? Use an alpha of 0.05 and a beta of 0.2. Make sure you have enough power for each metric."
   ]
  },
  {
   "cell_type": "markdown",
   "metadata": {},
   "source": [
    "Using the pageview calculator, [here](https://www.evanmiller.org/ab-testing/sample-size.html), for probability of payment given click we get the number of pageviews needed as: 819 Pvs with clicks using this click rate, total pageviews per variation are:"
   ]
  },
  {
   "cell_type": "code",
   "execution_count": 11,
   "metadata": {},
   "outputs": [
    {
     "data": {
      "text/plain": [
       "825500.0"
      ]
     },
     "execution_count": 11,
     "metadata": {},
     "output_type": "execute_result"
    }
   ],
   "source": [
    "33020/0.08 * 2"
   ]
  },
  {
   "cell_type": "markdown",
   "metadata": {},
   "source": [
    "#### Choosing Duration vs. Exposure\n",
    "What percentage of Udacity's traffic would you divert to this experiment (assuming there were no other experiments you wanted to run simultaneously)? Is the change risky enough that you wouldn't want to run on all traffic?\n",
    "\n",
    "\n",
    "Given the percentage you chose, how long would the experiment take to run, using the analytic estimates of variance? If the answer is longer than a few weeks, then this is unreasonably long, and you should reconsider an earlier decision."
   ]
  },
  {
   "cell_type": "markdown",
   "metadata": {},
   "source": [
    "Assuming we show this change to 90% of the traffic we will need to run this experiment for:"
   ]
  },
  {
   "cell_type": "code",
   "execution_count": 12,
   "metadata": {},
   "outputs": [
    {
     "data": {
      "text/plain": [
       "22.930555555555557"
      ]
     },
     "execution_count": 12,
     "metadata": {},
     "output_type": "execute_result"
    }
   ],
   "source": [
    "825500/ (0.9*40000)"
   ]
  },
  {
   "cell_type": "markdown",
   "metadata": {},
   "source": [
    "roughly 23 days"
   ]
  },
  {
   "cell_type": "markdown",
   "metadata": {},
   "source": [
    "## Section 3: Analyzing results\n",
    " \n",
    "### Analysis\n",
    "\n",
    "The data for you to analyze is here. This data contains the raw information needed to compute\n",
    "the above metrics, broken down day by day. Note that there are two sheets within the\n",
    "spreadsheet - one for the experiment group, and one for the control group.\n",
    "The meaning of each column is:\n",
    "\n",
    "* Pageviews: Number of unique cookies to view the course overview page that day.\n",
    "* Clicks: Number of unique cookies to click the course overview page that day.\n",
    "* Enrollments: Number of user-ids to enroll in the free trial that day.\n",
    "* Payments: Number of user-ids who who enrolled on that day to remain enrolled for 14\n",
    "days and thus make a payment. (Note that the date for this column is the start date, that\n",
    "is, the date of enrollment, rather than the date of the payment. The payment happened\n",
    "14 days later. Because of this, the enrollments and payments are tracked for 14 fewer\n",
    "days than the other columns.)\n",
    "\n",
    "#### Sanity Checks\n",
    "Start by checking whether your invariant metrics are equivalent between the two groups. If the\n",
    "invariant metric is a simple count that should be randomly split between the 2 groups, you can\n",
    "use a binomial test as demonstrated in Lesson 5. Otherwise, you will need to construct a\n",
    "confidence interval for a difference in proportions using a similar strategy as in Lesson 1, then\n",
    "check whether the difference between group values falls within that confidence level.\n",
    "If your sanity checks fail, look at the day by day data and see if you can offer any insight into\n",
    "what is causing the problem.\n",
    "Check for Practical and Statistical Significance\n",
    "Next, for your evaluation metrics, calculate a confidence interval for the difference between the\n",
    "experiment and control groups, and check whether each metric is statistically and/or practically\n",
    "significance. A metric is statistically significant if the confidence interval does not include 0 (that\n",
    "is, you can be confident there was a change), and it is practically significant if the confidence\n",
    "interval does not include the practical significance boundary (that is, you can be confident there\n",
    "is a change that matters to the business.)\n",
    "If you have chosen multiple evaluation metrics, you will need to decide whether to use the\n",
    "Bonferroni correction. When deciding, keep in mind the results you are looking for in order to\n",
    "launch the experiment. Will the fact that you have multiple metrics make those results more\n",
    "likely to occur by chance than the alpha level of 0.05?\n",
    "\n",
    "#### Run Sign Tests\n",
    "For each evaluation metric, do a sign test using the day-by-day breakdown. If the sign test does\n",
    "not agree with the confidence interval for the difference, see if you can figure out why.\n",
    "\n",
    "#### Make a Recommendation\n",
    "Finally, make a recommendation. Would you launch this experiment, not launch it, dig deeper,\n",
    "run a follow-up experiment, or is it a judgment call? If you would dig deeper, explain what area\n",
    "you would investigate. If you would run follow-up experiments, briefIy describe that experiment.\n",
    "If it is a judgment call, explain what factors would be relevant to the decision."
   ]
  },
  {
   "cell_type": "code",
   "execution_count": 17,
   "metadata": {},
   "outputs": [],
   "source": [
    "control = pd.read_csv('Data/ObservedControl.csv')\n",
    "experiment = pd.read_csv('Data/ObservedExperiment.csv')"
   ]
  },
  {
   "cell_type": "code",
   "execution_count": 18,
   "metadata": {},
   "outputs": [
    {
     "data": {
      "text/html": [
       "<div>\n",
       "<style scoped>\n",
       "    .dataframe tbody tr th:only-of-type {\n",
       "        vertical-align: middle;\n",
       "    }\n",
       "\n",
       "    .dataframe tbody tr th {\n",
       "        vertical-align: top;\n",
       "    }\n",
       "\n",
       "    .dataframe thead th {\n",
       "        text-align: right;\n",
       "    }\n",
       "</style>\n",
       "<table border=\"1\" class=\"dataframe\">\n",
       "  <thead>\n",
       "    <tr style=\"text-align: right;\">\n",
       "      <th></th>\n",
       "      <th>Date</th>\n",
       "      <th>Pageviews</th>\n",
       "      <th>Clicks</th>\n",
       "      <th>Enrollments</th>\n",
       "      <th>Payments</th>\n",
       "    </tr>\n",
       "  </thead>\n",
       "  <tbody>\n",
       "    <tr>\n",
       "      <th>0</th>\n",
       "      <td>Sat Oct 11</td>\n",
       "      <td>7723</td>\n",
       "      <td>687</td>\n",
       "      <td>134.0</td>\n",
       "      <td>70.0</td>\n",
       "    </tr>\n",
       "    <tr>\n",
       "      <th>1</th>\n",
       "      <td>Sun Oct 12</td>\n",
       "      <td>9102</td>\n",
       "      <td>779</td>\n",
       "      <td>147.0</td>\n",
       "      <td>70.0</td>\n",
       "    </tr>\n",
       "    <tr>\n",
       "      <th>2</th>\n",
       "      <td>Mon Oct 13</td>\n",
       "      <td>10511</td>\n",
       "      <td>909</td>\n",
       "      <td>167.0</td>\n",
       "      <td>95.0</td>\n",
       "    </tr>\n",
       "    <tr>\n",
       "      <th>3</th>\n",
       "      <td>Tue Oct 14</td>\n",
       "      <td>9871</td>\n",
       "      <td>836</td>\n",
       "      <td>156.0</td>\n",
       "      <td>105.0</td>\n",
       "    </tr>\n",
       "    <tr>\n",
       "      <th>4</th>\n",
       "      <td>Wed Oct 15</td>\n",
       "      <td>10014</td>\n",
       "      <td>837</td>\n",
       "      <td>163.0</td>\n",
       "      <td>64.0</td>\n",
       "    </tr>\n",
       "  </tbody>\n",
       "</table>\n",
       "</div>"
      ],
      "text/plain": [
       "         Date  Pageviews  Clicks  Enrollments  Payments\n",
       "0  Sat Oct 11       7723     687        134.0      70.0\n",
       "1  Sun Oct 12       9102     779        147.0      70.0\n",
       "2  Mon Oct 13      10511     909        167.0      95.0\n",
       "3  Tue Oct 14       9871     836        156.0     105.0\n",
       "4  Wed Oct 15      10014     837        163.0      64.0"
      ]
     },
     "execution_count": 18,
     "metadata": {},
     "output_type": "execute_result"
    }
   ],
   "source": [
    "control.head()"
   ]
  },
  {
   "cell_type": "code",
   "execution_count": 19,
   "metadata": {},
   "outputs": [
    {
     "data": {
      "text/html": [
       "<div>\n",
       "<style scoped>\n",
       "    .dataframe tbody tr th:only-of-type {\n",
       "        vertical-align: middle;\n",
       "    }\n",
       "\n",
       "    .dataframe tbody tr th {\n",
       "        vertical-align: top;\n",
       "    }\n",
       "\n",
       "    .dataframe thead th {\n",
       "        text-align: right;\n",
       "    }\n",
       "</style>\n",
       "<table border=\"1\" class=\"dataframe\">\n",
       "  <thead>\n",
       "    <tr style=\"text-align: right;\">\n",
       "      <th></th>\n",
       "      <th>Date</th>\n",
       "      <th>Pageviews</th>\n",
       "      <th>Clicks</th>\n",
       "      <th>Enrollments</th>\n",
       "      <th>Payments</th>\n",
       "    </tr>\n",
       "  </thead>\n",
       "  <tbody>\n",
       "    <tr>\n",
       "      <th>0</th>\n",
       "      <td>Sat Oct 11</td>\n",
       "      <td>7716</td>\n",
       "      <td>686</td>\n",
       "      <td>105.0</td>\n",
       "      <td>34.0</td>\n",
       "    </tr>\n",
       "    <tr>\n",
       "      <th>1</th>\n",
       "      <td>Sun Oct 12</td>\n",
       "      <td>9288</td>\n",
       "      <td>785</td>\n",
       "      <td>116.0</td>\n",
       "      <td>91.0</td>\n",
       "    </tr>\n",
       "    <tr>\n",
       "      <th>2</th>\n",
       "      <td>Mon Oct 13</td>\n",
       "      <td>10480</td>\n",
       "      <td>884</td>\n",
       "      <td>145.0</td>\n",
       "      <td>79.0</td>\n",
       "    </tr>\n",
       "    <tr>\n",
       "      <th>3</th>\n",
       "      <td>Tue Oct 14</td>\n",
       "      <td>9867</td>\n",
       "      <td>827</td>\n",
       "      <td>138.0</td>\n",
       "      <td>92.0</td>\n",
       "    </tr>\n",
       "    <tr>\n",
       "      <th>4</th>\n",
       "      <td>Wed Oct 15</td>\n",
       "      <td>9793</td>\n",
       "      <td>832</td>\n",
       "      <td>140.0</td>\n",
       "      <td>94.0</td>\n",
       "    </tr>\n",
       "  </tbody>\n",
       "</table>\n",
       "</div>"
      ],
      "text/plain": [
       "         Date  Pageviews  Clicks  Enrollments  Payments\n",
       "0  Sat Oct 11       7716     686        105.0      34.0\n",
       "1  Sun Oct 12       9288     785        116.0      91.0\n",
       "2  Mon Oct 13      10480     884        145.0      79.0\n",
       "3  Tue Oct 14       9867     827        138.0      92.0\n",
       "4  Wed Oct 15       9793     832        140.0      94.0"
      ]
     },
     "execution_count": 19,
     "metadata": {},
     "output_type": "execute_result"
    }
   ],
   "source": [
    "experiment.head()"
   ]
  },
  {
   "cell_type": "markdown",
   "metadata": {},
   "source": [
    "Now, let's calculate the value and create the 95% confidence interval for the 2 invariant metrics we chose as the first sanity check"
   ]
  },
  {
   "cell_type": "code",
   "execution_count": 31,
   "metadata": {},
   "outputs": [
    {
     "name": "stdout",
     "output_type": "stream",
     "text": [
      "confidence interval around the fraction of PVs expected in the control group: [ 0.4988 ,  0.5006 ,  0.5012 ]\n",
      "confidence interval around the fraction of clicks expected in the control group: [ 0.4959 ,  0.5005 ,  0.5041 ]\n"
     ]
    }
   ],
   "source": [
    "num_cookies_control = control.Pageviews.sum()\n",
    "num_cookies_expt = experiment.Pageviews.sum()\n",
    "\n",
    "clicks_control = control.Clicks.sum()\n",
    "clicks_expt = experiment.Clicks.sum()\n",
    "\n",
    "total_PVs = num_cookies_control + num_cookies_expt\n",
    "total_clicks = clicks_control + clicks_expt\n",
    "\n",
    "observed_PV_control = num_cookies_control/total_PVs\n",
    "\n",
    "observed_clicks_control = clicks_control/total_clicks\n",
    "\n",
    "#building a binomial distribution to calculate SE\n",
    "p_split = 0.5\n",
    "\n",
    "SE_PV = np.sqrt(p_split*(1-p_split)*(1/total_PVs))\n",
    "SE_clicks = np.sqrt(p_split*(1-p_split)*(1/total_clicks))\n",
    "\n",
    "m_pv = 1.96 * SE_PV\n",
    "m_clicks = 1.96 * SE_clicks\n",
    "\n",
    "print('confidence interval around the fraction of PVs expected in the control group: ['\n",
    "      , round(p_split-m_pv,4), ', '\n",
    "      , round(observed_PV_control,4), ', '\n",
    "      , round(p_split+m_pv,4),']')\n",
    "\n",
    "print('confidence interval around the fraction of clicks expected in the control group: ['\n",
    "      , round(p_split-m_clicks,4), ', '\n",
    "      , round(observed_clicks_control,4), ', '\n",
    "      , round(p_split+m_clicks,4),']')"
   ]
  },
  {
   "cell_type": "markdown",
   "metadata": {},
   "source": [
    "Now it is time to calculate the observed values and confidence intervals for the 2 evaluation metrics and calculate the difference between the control and experiment to see if there was a statistically significant change. Since we need 23 days worth of data to run a valid experiment, that's how much data I am going to use below"
   ]
  },
  {
   "cell_type": "code",
   "execution_count": 38,
   "metadata": {},
   "outputs": [
    {
     "name": "stdout",
     "output_type": "stream",
     "text": [
      "Lower bound, observed value and upper bound for difference between Gross Retention for A vs B: [ -0.0291 ,  -0.0206 ,  -0.012 ]\n",
      "Statistically significant but not practically significant\n",
      "\n",
      "Lower bound, observed value and upper bound for difference between Gross Retention for A vs B: [ -0.0116 ,  -0.0049 ,  0.0019 ]\n",
      "Statistically & practically not significant\n"
     ]
    }
   ],
   "source": [
    "click_cont = control.Clicks[:23].sum()\n",
    "click_expt = experiment.Clicks[:23].sum()\n",
    "\n",
    "enroll_cont = control.Enrollments[:23].sum()\n",
    "enroll_expt = experiment.Enrollments[:23].sum()\n",
    "\n",
    "pay_cont = control.Payments[:23].sum()\n",
    "pay_expt = experiment.Payments[:23].sum()\n",
    "\n",
    "GR_cont = enroll_cont/click_cont\n",
    "GR_expt = enroll_expt/click_expt\n",
    "GR_pool = (enroll_cont+enroll_expt)/(click_cont+click_expt)\n",
    "\n",
    "NR_cont = pay_cont/click_cont\n",
    "NR_expt = pay_expt/click_expt\n",
    "NR_pool = (pay_cont+pay_expt)/(click_cont+click_expt)\n",
    "\n",
    "SE_GR = np.sqrt(GR_pool*(1-GR_pool)*((1/click_cont)+(1/click_expt)))\n",
    "m_GR = 1.96 * SE_GR\n",
    "diff_GR = GR_expt - GR_cont\n",
    "\n",
    "SE_NR = np.sqrt(NR_pool*(1-NR_pool)*((1/click_cont)+(1/click_expt)))\n",
    "m_NR = 1.96 * SE_NR\n",
    "diff_NR = NR_expt - NR_cont\n",
    "\n",
    "print('Lower bound, observed value and upper bound for difference between Gross Retention for A vs B: ['\n",
    "      , round(diff_GR-m_GR,4), ', '\n",
    "      , round(diff_GR,4), ', '\n",
    "      , round(diff_GR+m_GR,4) ,']')\n",
    "\n",
    "print('Statistically significant but not practically significant')\n",
    "print()\n",
    "print('Lower bound, observed value and upper bound for difference between Gross Retention for A vs B: ['\n",
    "      , round(diff_NR-m_NR,4), ', '\n",
    "      , round(diff_NR,4), ', '\n",
    "      , round(diff_NR+m_NR,4) ,']')\n",
    "print('Statistically & practically not significant')"
   ]
  },
  {
   "cell_type": "markdown",
   "metadata": {},
   "source": [
    "Now let's perform the sign test to see if the change was positive or negative for a significant number of days using the p-value using [this tool](https://www.graphpad.com/quickcalcs/binomial1.cfm) referenced in the course"
   ]
  },
  {
   "cell_type": "code",
   "execution_count": 44,
   "metadata": {},
   "outputs": [
    {
     "name": "stdout",
     "output_type": "stream",
     "text": [
      "number of days the change was positive:  4\n",
      "number of days the change was negative:  19\n",
      "number of days the change was positive:  10\n",
      "number of days the change was negative:  13\n"
     ]
    }
   ],
   "source": [
    "click_cont = control.Clicks[:23]\n",
    "click_expt = experiment.Clicks[:23]\n",
    "\n",
    "enroll_cont = control.Enrollments[:23]\n",
    "enroll_expt = experiment.Enrollments[:23]\n",
    "\n",
    "pay_cont = control.Payments[:23]\n",
    "pay_expt = experiment.Payments[:23]\n",
    "\n",
    "GR_cont = enroll_cont/click_cont\n",
    "GR_expt = enroll_expt/click_expt\n",
    "\n",
    "sign_GR = GR_expt - GR_cont\n",
    "print('number of days the change was positive: ', sum([1 for i in sign_GR if i >= 0]))\n",
    "print('number of days the change was negative: ', sum([1 for i in sign_GR if i < 0]))\n",
    "\n",
    "NR_cont = pay_cont/click_cont\n",
    "NR_expt = pay_expt/click_expt\n",
    "\n",
    "sign_NR = NR_expt - NR_cont\n",
    "print('number of days the change was positive: ', sum([1 for i in sign_NR if i >= 0]))\n",
    "print('number of days the change was negative: ', sum([1 for i in sign_NR if i < 0]))"
   ]
  },
  {
   "cell_type": "markdown",
   "metadata": {},
   "source": [
    "The P-value for the Gross retention sign test for being negative is: 0.0026 <br>\n",
    "The P-value for the Net retentiosn sign test for being positive is: 0.6776 "
   ]
  },
  {
   "cell_type": "markdown",
   "metadata": {},
   "source": [
    "**Recommendation:** while the p-value for the negative gross retention is statistically significant and for the diff as well, I would not recommend this change. This change does seem to suceed in discouraging strudents to not start trials in case they don't have time to study, it does not increase the eventual course payment rate which is likely the goal."
   ]
  },
  {
   "cell_type": "markdown",
   "metadata": {},
   "source": [
    "### References:\n",
    "[[1]](https://docs.google.com/document/u/1/d/1aCquhIqsUApgsxQ8-SQBAigFDcfWVVohLEXcV6jWbdI/pub?embedded=True) - Udacity project description document <br>\n",
    "[[2]](https://www.evanmiller.org/ab-testing/sample-size.html) - Pageviews calculator <br>\n",
    "[[3]](https://www.graphpad.com/quickcalcs/binomial1.cfm) - P-value calculator <br>"
   ]
  }
 ],
 "metadata": {
  "kernelspec": {
   "display_name": "Python 3",
   "language": "python",
   "name": "python3"
  },
  "language_info": {
   "codemirror_mode": {
    "name": "ipython",
    "version": 3
   },
   "file_extension": ".py",
   "mimetype": "text/x-python",
   "name": "python",
   "nbconvert_exporter": "python",
   "pygments_lexer": "ipython3",
   "version": "3.6.4"
  }
 },
 "nbformat": 4,
 "nbformat_minor": 2
}
